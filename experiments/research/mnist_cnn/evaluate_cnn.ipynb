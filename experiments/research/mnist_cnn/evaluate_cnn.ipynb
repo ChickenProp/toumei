{
 "cells": [
  {
   "cell_type": "code",
   "execution_count": 1,
   "outputs": [],
   "source": [
    "import matplotlib.pyplot as plt\n",
    "import torch\n",
    "\n",
    "from toumei.probe import print_modules\n",
    "\n",
    "from toumei.models import SimpleCNN\n",
    "\n",
    "from ingredients.utils import *\n",
    "\n",
    "device = torch.device('cuda')\n",
    "\n",
    "from experiments.research.mnist_cnn.ingredients.mnist_dataset import MNISTDataset\n",
    "dataset = MNISTDataset(device=device)"
   ],
   "metadata": {
    "collapsed": false,
    "pycharm": {
     "name": "#%%\n"
    }
   }
  },
  {
   "cell_type": "code",
   "execution_count": 6,
   "outputs": [
    {
     "name": "stdout",
     "output_type": "stream",
     "text": [
      "\n",
      "Name            | Module                                                                      \n",
      "--------------------------------------------------------------------------------------------\n",
      "conv1           | Conv2d(2, 32, kernel_size=(3, 3), stride=(1, 1))                            \n",
      "pool1           | MaxPool2d(kernel_size=2, stride=2, padding=0, dilation=1, ceil_mode=False)  \n",
      "relu1           | RedirectedReluLayer()                                                       \n",
      "conv2           | Conv2d(32, 8, kernel_size=(3, 3), stride=(1, 1))                            \n",
      "pool2           | MaxPool2d(kernel_size=2, stride=2, padding=0, dilation=1, ceil_mode=False)  \n",
      "relu2           | RedirectedReluLayer()                                                       \n",
      "adaptive_pool   | AdaptiveAvgPool2d(output_size=(8, 8))                                       \n",
      "fc1             | Linear(in_features=512, out_features=32, bias=True)                         \n",
      "relu_fc1        | RedirectedReluLayer()                                                       \n",
      "fc2             | Linear(in_features=32, out_features=16, bias=True)                          \n",
      "relu_fc2        | RedirectedReluLayer()                                                       \n",
      "fc3             | Linear(in_features=16, out_features=8, bias=True)                           \n",
      "relu_fc3        | RedirectedReluLayer()                                                       \n",
      "fc4             | Linear(in_features=8, out_features=1, bias=True)                            \n",
      "\n"
     ]
    }
   ],
   "source": [
    "model = SimpleCNN(2, 1, redirected_relu=True).to(device)\n",
    "model.load_state_dict(torch.load('model_weights_mvg_9.pth'))\n",
    "print_modules(model)"
   ],
   "metadata": {
    "collapsed": false,
    "pycharm": {
     "name": "#%%\n"
    }
   }
  },
  {
   "cell_type": "code",
   "execution_count": 7,
   "outputs": [],
   "source": [
    "from toumei.misc.model_broadness import BroadnessMeasurer\n",
    "def gt_func(x):\n",
    "    return x[:, 0] + x[:, 1]"
   ],
   "metadata": {
    "collapsed": false,
    "pycharm": {
     "name": "#%%\n"
    }
   }
  },
  {
   "cell_type": "code",
   "execution_count": 8,
   "outputs": [
    {
     "name": "stderr",
     "output_type": "stream",
     "text": [
      "Measuring Broadness for std=0.0: 100%|██████████| 1/1 [00:00<00:00, 27.18it/s, mean_loss=1.65]\n",
      "Measuring Broadness for std=0.0001: 100%|██████████| 100/100 [00:03<00:00, 28.39it/s, mean_loss=1.81]\n",
      "Measuring Broadness for std=0.0002: 100%|██████████| 100/100 [00:03<00:00, 28.44it/s, mean_loss=1.91]\n",
      "Measuring Broadness for std=0.00030000000000000003: 100%|██████████| 100/100 [00:03<00:00, 28.65it/s, mean_loss=2.11]\n",
      "Measuring Broadness for std=0.0004: 100%|██████████| 100/100 [00:03<00:00, 27.69it/s, mean_loss=2.32]\n",
      "Measuring Broadness for std=0.0005: 100%|██████████| 100/100 [00:03<00:00, 28.35it/s, mean_loss=2.48]\n",
      "Measuring Broadness for std=0.0006000000000000001: 100%|██████████| 100/100 [00:03<00:00, 27.82it/s, mean_loss=2.45]\n",
      "Measuring Broadness for std=0.0007: 100%|██████████| 100/100 [00:03<00:00, 28.47it/s, mean_loss=2.94]\n",
      "Measuring Broadness for std=0.0008: 100%|██████████| 100/100 [00:03<00:00, 27.75it/s, mean_loss=3.01]\n",
      "Measuring Broadness for std=0.0009000000000000001: 100%|██████████| 100/100 [00:03<00:00, 28.21it/s, mean_loss=3.11]\n",
      "Measuring Broadness for std=0.001: 100%|██████████| 100/100 [00:03<00:00, 27.67it/s, mean_loss=3.07]\n",
      "Measuring Broadness for std=0.0011: 100%|██████████| 100/100 [00:03<00:00, 28.38it/s, mean_loss=3.31]\n",
      "Measuring Broadness for std=0.0012000000000000001: 100%|██████████| 100/100 [00:03<00:00, 27.33it/s, mean_loss=3.73]\n",
      "Measuring Broadness for std=0.0013000000000000002: 100%|██████████| 100/100 [00:03<00:00, 27.95it/s, mean_loss=3.48]\n",
      "Measuring Broadness for std=0.0014: 100%|██████████| 100/100 [00:03<00:00, 27.23it/s, mean_loss=3.48]\n",
      "Measuring Broadness for std=0.0015: 100%|██████████| 100/100 [00:03<00:00, 27.21it/s, mean_loss=4.06]\n",
      "Measuring Broadness for std=0.0016: 100%|██████████| 100/100 [00:03<00:00, 27.94it/s, mean_loss=4.14]\n",
      "Measuring Broadness for std=0.0017000000000000001: 100%|██████████| 100/100 [00:03<00:00, 27.24it/s, mean_loss=4.68]\n",
      "Measuring Broadness for std=0.0018000000000000002: 100%|██████████| 100/100 [00:03<00:00, 27.75it/s, mean_loss=4.36]\n",
      "Measuring Broadness for std=0.0019: 100%|██████████| 100/100 [00:03<00:00, 26.82it/s, mean_loss=4.88]\n",
      "Measuring Broadness for std=0.002: 100%|██████████| 100/100 [00:03<00:00, 27.27it/s, mean_loss=5.12]\n",
      "Measuring Broadness for std=0.0021000000000000003: 100%|██████████| 100/100 [00:03<00:00, 25.79it/s, mean_loss=4.98]\n",
      "Measuring Broadness for std=0.0022: 100%|██████████| 100/100 [00:03<00:00, 26.91it/s, mean_loss=4.83]\n",
      "Measuring Broadness for std=0.0023: 100%|██████████| 100/100 [00:03<00:00, 26.04it/s, mean_loss=5.53]\n",
      "Measuring Broadness for std=0.0024000000000000002: 100%|██████████| 100/100 [00:03<00:00, 26.72it/s, mean_loss=5.42]\n",
      "Measuring Broadness for std=0.0025: 100%|██████████| 100/100 [00:03<00:00, 26.52it/s, mean_loss=5.03]\n",
      "Measuring Broadness for std=0.0026000000000000003: 100%|██████████| 100/100 [00:03<00:00, 26.26it/s, mean_loss=5.91]\n",
      "Measuring Broadness for std=0.0027: 100%|██████████| 100/100 [00:03<00:00, 26.36it/s, mean_loss=5.06]\n",
      "Measuring Broadness for std=0.0028: 100%|██████████| 100/100 [00:03<00:00, 26.79it/s, mean_loss=5.88]\n",
      "Measuring Broadness for std=0.0029000000000000002: 100%|██████████| 100/100 [00:03<00:00, 25.60it/s, mean_loss=5.73]\n",
      "Measuring Broadness for std=0.003: 100%|██████████| 100/100 [00:03<00:00, 25.84it/s, mean_loss=5.84]\n",
      "Measuring Broadness for std=0.0031000000000000003: 100%|██████████| 100/100 [00:03<00:00, 25.75it/s, mean_loss=6.24]\n",
      "Measuring Broadness for std=0.0032: 100%|██████████| 100/100 [00:03<00:00, 26.29it/s, mean_loss=7.13]\n",
      "Measuring Broadness for std=0.0033: 100%|██████████| 100/100 [00:03<00:00, 25.75it/s, mean_loss=6.95]\n",
      "Measuring Broadness for std=0.0034000000000000002: 100%|██████████| 100/100 [00:03<00:00, 27.02it/s, mean_loss=6.63]\n",
      "Measuring Broadness for std=0.0035: 100%|██████████| 100/100 [00:03<00:00, 26.19it/s, mean_loss=8.37]\n",
      "Measuring Broadness for std=0.0036000000000000003: 100%|██████████| 100/100 [00:03<00:00, 26.15it/s, mean_loss=7.19]\n",
      "Measuring Broadness for std=0.0037: 100%|██████████| 100/100 [00:03<00:00, 25.85it/s, mean_loss=7.96]\n",
      "Measuring Broadness for std=0.0038: 100%|██████████| 100/100 [00:03<00:00, 26.29it/s, mean_loss=7.77]\n",
      "Measuring Broadness for std=0.0039000000000000003: 100%|██████████| 100/100 [00:03<00:00, 25.83it/s, mean_loss=7.97]\n",
      "Measuring Broadness for std=0.004: 100%|██████████| 100/100 [00:03<00:00, 26.92it/s, mean_loss=6.7]\n",
      "Measuring Broadness for std=0.0041: 100%|██████████| 100/100 [00:03<00:00, 26.18it/s, mean_loss=9.77]\n",
      "Measuring Broadness for std=0.004200000000000001: 100%|██████████| 100/100 [00:03<00:00, 26.77it/s, mean_loss=6.54]\n",
      "Measuring Broadness for std=0.0043: 100%|██████████| 100/100 [00:03<00:00, 26.21it/s, mean_loss=7.92]\n",
      "Measuring Broadness for std=0.0044: 100%|██████████| 100/100 [00:04<00:00, 24.23it/s, mean_loss=9.96]\n",
      "Measuring Broadness for std=0.0045000000000000005: 100%|██████████| 100/100 [00:03<00:00, 27.64it/s, mean_loss=8.35]\n",
      "Measuring Broadness for std=0.0046: 100%|██████████| 100/100 [00:03<00:00, 27.09it/s, mean_loss=8.89]\n",
      "Measuring Broadness for std=0.0047: 100%|██████████| 100/100 [00:03<00:00, 27.84it/s, mean_loss=9.39]\n",
      "Measuring Broadness for std=0.0048000000000000004: 100%|██████████| 100/100 [00:03<00:00, 27.20it/s, mean_loss=10.7]\n",
      "Measuring Broadness for std=0.0049: 100%|██████████| 100/100 [00:03<00:00, 27.74it/s, mean_loss=8.99]\n",
      "/home/neonode/PycharmProjects/toumei/toumei/misc/model_broadness.py:44: VisibleDeprecationWarning: Creating an ndarray from ragged nested sequences (which is a list-or-tuple of lists-or-tuples-or ndarrays with different lengths or shapes) is deprecated. If you meant to do this, you must specify 'dtype=object' when creating the ndarray.\n",
      "  losses_measured = np.array(losses_measured)\n"
     ]
    }
   ],
   "source": [
    "bm = BroadnessMeasurer(model, dataset, nn.MSELoss(), gt_func)\n",
    "bm.device = torch.device(\"cuda\")\n",
    "losses_measured, detlas = bm.run([0.0001*i for i in range(50)], num_itrs=100)"
   ],
   "metadata": {
    "collapsed": false,
    "pycharm": {
     "name": "#%%\n"
    }
   }
  },
  {
   "cell_type": "code",
   "execution_count": null,
   "outputs": [],
   "source": [],
   "metadata": {
    "collapsed": false,
    "pycharm": {
     "name": "#%%\n"
    }
   }
  }
 ],
 "metadata": {
  "kernelspec": {
   "display_name": "Python 3",
   "language": "python",
   "name": "python3"
  },
  "language_info": {
   "codemirror_mode": {
    "name": "ipython",
    "version": 2
   },
   "file_extension": ".py",
   "mimetype": "text/x-python",
   "name": "python",
   "nbconvert_exporter": "python",
   "pygments_lexer": "ipython2",
   "version": "2.7.6"
  }
 },
 "nbformat": 4,
 "nbformat_minor": 0
}