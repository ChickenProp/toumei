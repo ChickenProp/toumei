{
 "cells": [
  {
   "cell_type": "code",
   "execution_count": 1,
   "outputs": [],
   "source": [
    "import matplotlib.pyplot as plt\n",
    "import torch\n",
    "\n",
    "from toumei.probe import print_modules\n",
    "\n",
    "from toumei.models import SimpleCNN\n",
    "\n",
    "from ingredients.utils import *\n",
    "\n",
    "device = torch.device('cuda')\n",
    "\n",
    "from experiments.research.mnist_cnn.ingredients.mnist_dataset import MNISTDataset\n",
    "dataset = MNISTDataset(device=device)"
   ],
   "metadata": {
    "collapsed": false,
    "pycharm": {
     "name": "#%%\n"
    }
   }
  },
  {
   "cell_type": "code",
   "execution_count": 11,
   "outputs": [
    {
     "name": "stdout",
     "output_type": "stream",
     "text": [
      "\n",
      "Name            | Module                                                                      \n",
      "--------------------------------------------------------------------------------------------\n",
      "conv1           | Conv2d(2, 32, kernel_size=(3, 3), stride=(1, 1))                            \n",
      "pool1           | MaxPool2d(kernel_size=2, stride=2, padding=0, dilation=1, ceil_mode=False)  \n",
      "relu1           | RedirectedReluLayer()                                                       \n",
      "conv2           | Conv2d(32, 8, kernel_size=(3, 3), stride=(1, 1))                            \n",
      "pool2           | MaxPool2d(kernel_size=2, stride=2, padding=0, dilation=1, ceil_mode=False)  \n",
      "relu2           | RedirectedReluLayer()                                                       \n",
      "adaptive_pool   | AdaptiveAvgPool2d(output_size=(8, 8))                                       \n",
      "fc1             | Linear(in_features=512, out_features=32, bias=True)                         \n",
      "relu_fc1        | RedirectedReluLayer()                                                       \n",
      "fc2             | Linear(in_features=32, out_features=16, bias=True)                          \n",
      "relu_fc2        | RedirectedReluLayer()                                                       \n",
      "fc3             | Linear(in_features=16, out_features=8, bias=True)                           \n",
      "relu_fc3        | RedirectedReluLayer()                                                       \n",
      "fc4             | Linear(in_features=8, out_features=1, bias=True)                            \n",
      "\n"
     ]
    }
   ],
   "source": [
    "model = SimpleCNN(2, 1, redirected_relu=True).to(device)\n",
    "model.load_state_dict(torch.load('model_weights(2).pth'))\n",
    "print_modules(model)"
   ],
   "metadata": {
    "collapsed": false,
    "pycharm": {
     "name": "#%%\n"
    }
   }
  },
  {
   "cell_type": "code",
   "execution_count": 12,
   "outputs": [],
   "source": [
    "from toumei.misc.model_broadness import BroadnessMeasurer\n",
    "def gt_func(x):\n",
    "    return x[:, 0] + x[:, 1]"
   ],
   "metadata": {
    "collapsed": false,
    "pycharm": {
     "name": "#%%\n"
    }
   }
  },
  {
   "cell_type": "code",
   "execution_count": 13,
   "outputs": [
    {
     "name": "stderr",
     "output_type": "stream",
     "text": [
      "Measuring Broadness: 100%|██████████| 1/1 [00:00<00:00,  8.67it/s, mean_loss=0.196]\n",
      "Measuring Broadness: 100%|██████████| 100/100 [00:03<00:00, 27.87it/s, mean_loss=3.42]\n",
      "Measuring Broadness: 100%|██████████| 100/100 [00:03<00:00, 27.90it/s, mean_loss=6.51]\n",
      "Measuring Broadness: 100%|██████████| 100/100 [00:03<00:00, 27.60it/s, mean_loss=9.78]\n",
      "Measuring Broadness: 100%|██████████| 100/100 [00:03<00:00, 27.31it/s, mean_loss=13.4]\n",
      "/home/neonode/PycharmProjects/toumei/toumei/misc/model_broadness.py:44: VisibleDeprecationWarning: Creating an ndarray from ragged nested sequences (which is a list-or-tuple of lists-or-tuples-or ndarrays with different lengths or shapes) is deprecated. If you meant to do this, you must specify 'dtype=object' when creating the ndarray.\n",
      "  losses_measured = np.array(losses_measured)\n"
     ]
    },
    {
     "data": {
      "text/plain": "(array([array([0.]),\n        array([3.46072508, 4.10355188, 2.30766894, 4.79612543, 3.20806862,\n               2.22931291, 2.76524855, 2.23061253, 3.3514619 , 5.80408908,\n               2.29609729, 3.20768858, 2.70322324, 3.16236784, 2.54911877,\n               5.19566156, 2.59179546, 2.96692397, 2.67630626, 3.24573423,\n               3.48290254, 3.66744091, 4.17602398, 2.32385804, 2.98793127,\n               4.1041484 , 3.15680505, 3.38520886, 2.76834156, 3.17690183,\n               2.39863373, 2.82470943, 5.60223152, 3.48056199, 2.28573824,\n               2.63359667, 3.03087689, 2.40528156, 3.1690364 , 2.6020713 ,\n               2.92894031, 3.4496503 , 3.99398758, 2.21916272, 2.93861867,\n               2.66474916, 3.41340877, 2.66554667, 2.03008796, 2.62060501,\n               3.24834658, 2.71214272, 6.19501258, 4.36343242, 4.48533775,\n               2.49220468, 3.62255718, 2.9214728 , 3.76953699, 3.61179306,\n               2.99586298, 4.06617452, 3.2172599 , 2.13304497, 1.88057519,\n               3.19785072, 5.36580326, 3.10913612, 2.79140855, 4.48078348,\n               3.66962124, 4.25451042, 2.25621034, 3.01360919, 2.60810854,\n               3.263788  , 2.18331029, 2.77556826, 2.80912067, 2.69201852,\n               2.54486801, 2.79340245, 2.11877348, 4.46134569, 2.97645237,\n               3.12118246, 3.28398444, 3.11393739, 2.53107788, 2.58580448,\n               2.2174821 , 2.96801426, 3.99371339, 2.84155108, 2.87614514,\n               2.39307429, 6.10245229, 3.32968499, 3.46915747, 4.77926876]),\n        array([ 5.99604799,  7.57896139,  3.98371603,  8.99629213,  6.35040714,\n                6.46241428,  5.81077816,  4.44859697,  6.75462677, 10.0776682 ,\n                5.53693725,  5.08732988,  5.60972501,  4.74779941,  6.12118532,\n                4.71200277,  4.26841404,  8.71396829,  5.05724908,  6.06406166,\n                3.01698233,  4.3069234 ,  8.00463487,  7.72112037,  6.39479257,\n                7.07992174,  6.93131305,  8.78472997,  6.02846529,  7.57395937,\n                6.5745907 ,  4.54818775,  4.7802539 ,  7.22693159,  5.03245594,\n                3.20070554,  6.79609968,  3.79553486,  7.29480268,  6.42433073,\n                4.55319072,  4.55419923,  3.70331217,  5.00804378,  6.07767631,\n                4.46006395,  4.41076042,  8.85023786,  5.73915483,  6.09712841,\n                4.23527433,  6.02900507, 17.27253343,  5.7309313 ,  4.92007257,\n                4.90673353,  6.35865308,  5.37010957,  4.62022401,  6.13632728,\n                4.26903249,  6.79087068,  4.34055854,  8.79008199, 11.39771463,\n                5.32375719,  5.98062517,  8.01488401,  6.64933969,  3.37757303,\n                8.68360044,  3.42132093,  4.44886114,  5.32899572,  6.61399032,\n                5.23134662,  5.62743475,  6.17375471,  7.30990554, 27.76878549,\n                4.39445163,  6.43242027,  5.71203376,  6.38755037,  4.64549209,\n                7.92101575,  6.29884054,  8.39216425,  7.97953893,  8.47479631,\n                7.10742475,  6.96076156,  6.10803987,  3.6148553 ,  5.99931528,\n                6.17584421,  5.19699623,  5.21023418,  4.09157135,  5.50554134]),\n        array([ 6.8109851 ,  8.23605348,  5.70659162,  7.51006271, 10.70648958,\n               10.89898302,  9.01841833, 18.55594064,  6.15310003,  8.5013447 ,\n               14.76946642, 10.64638521,  9.81555845, 12.2129717 ,  9.30946638,\n                8.09851076,  9.63914491, 10.98980524,  7.31502916,  6.77869274,\n                9.12005235, 12.40732576,  8.59258939,  8.36216547,  9.29853441,\n                6.84896471,  6.24913217,  9.77267839,  7.44249965,  7.27924539,\n                7.59733965,  5.92582847,  9.30175306,  8.93683816,  7.98133279,\n               10.61046506,  9.98759367,  8.2204466 ,  6.74872018,  7.06547023,\n                7.58836748,  9.33331682, 19.50252916,  8.52560617,  6.09669735,\n               11.03269769, 13.70006467, 18.80153657, 13.38034917, 12.89447691,\n                7.32235672,  8.27600957, 10.55949403,  8.4151497 ,  6.06263734,\n               11.48193552,  5.71369268,  6.49719144, 16.21837999,  9.36108209,\n               12.48966981,  6.8494897 ,  8.70737077, 11.19462015, 10.18682672,\n                5.84343196, 18.0425892 , 16.34629251,  7.41050293,  6.89946415,\n               16.72538568, 13.03775884,  7.25323965,  8.60226633,  6.81619884,\n               12.98556043,  8.58196165,  9.76613809,  5.85367109,  9.71632673,\n                7.27939226, 16.30400087,  7.70839073,  7.10761215,  7.47955181,\n                9.1848488 , 12.94517805,  6.97513057,  6.73273088, 11.25228502,\n                6.57232429, 15.52751447,  6.50418426,  9.90790655,  8.50799467,\n                5.94160654,  9.8513384 , 11.75819208,  5.71308281, 12.03424074]),\n        array([14.47517206,  9.03770258,  8.74374296,  9.0832081 , 10.78282262,\n                9.00905038, 15.02021219,  9.82553293,  7.47789432, 13.70085336,\n               11.28811361,  7.21450044,  7.82235147, 20.89779665, 21.1311474 ,\n               10.86318494,  8.1882229 , 10.73161127, 12.41468431,  7.91214849,\n                8.08949949,  8.2889929 , 27.30895425,  8.63958646,  9.18463995,\n                8.79639055, 16.34935571, 20.38750459, 11.83576967, 18.57685091,\n               16.45470621,  9.8069029 , 13.23822595, 12.57967569,  7.96323206,\n               21.16299058, 27.2103119 , 10.83028795, 16.12627222,  8.45621873,\n               13.42236234, 22.07999612,  9.86028005,  7.53525974,  8.16450597,\n               10.07892133, 14.19830991, 11.57695486, 14.04320432, 12.16523363,\n               15.40508653,  7.59007265, 11.45909883, 11.23629858, 10.15569212,\n                9.49464704, 12.12565614, 14.87650777, 13.43865015,  9.71565343,\n                9.2311125 , 14.38135816, 12.90820791,  9.96447755, 15.61650278,\n               10.64255525,  9.74529935, 23.54866029, 10.26565172, 12.15744688,\n               26.47808839, 31.44156457, 15.39686204,  8.00007631,  9.36942388,\n               13.89072897,  8.00116445, 10.38775541,  7.12187673,  9.04834844,\n               15.14702703, 24.12214662,  9.01172353, 13.47341348, 18.97197153,\n               13.29473116, 15.60795213,  8.77147199, 11.26397897, 21.45748712,\n               13.71440889, 12.6151457 , 18.15758707, 12.01296999, 13.5458584 ,\n               24.80987169, 13.11852647, 18.04982759, 19.32890703,  8.30140974])],\n       dtype=object),\n array([3.22125814, 3.08954057, 3.27701947, 3.59120473]))"
     },
     "execution_count": 13,
     "metadata": {},
     "output_type": "execute_result"
    }
   ],
   "source": [
    "bm = BroadnessMeasurer(model, dataset, nn.MSELoss(), gt_func)\n",
    "bm.device = torch.device(\"cuda\")\n",
    "bm.run([0.0005*i for i in range(5)], num_itrs=100)"
   ],
   "metadata": {
    "collapsed": false,
    "pycharm": {
     "name": "#%%\n"
    }
   }
  },
  {
   "cell_type": "code",
   "execution_count": 3,
   "outputs": [
    {
     "name": "stdout",
     "output_type": "stream",
     "text": [
      "0 tensor([0, 1], device='cuda:0')\n",
      "1 tensor([0, 1], device='cuda:0')\n",
      "2 tensor([1, 1], device='cuda:0')\n",
      "3 tensor([1, 2], device='cuda:0')\n",
      "4 tensor([3, 1], device='cuda:0')\n",
      "5 tensor([3, 3], device='cuda:0')\n",
      "6 tensor([3, 3], device='cuda:0')\n",
      "7 tensor([6, 2], device='cuda:0')\n",
      "8 tensor([0, 8], device='cuda:0')\n",
      "9 tensor([0, 9], device='cuda:0')\n",
      "10 tensor([3, 7], device='cuda:0')\n",
      "11 tensor([6, 6], device='cuda:0')\n",
      "12 tensor([6, 7], device='cuda:0')\n",
      "13 tensor([5, 9], device='cuda:0')\n",
      "14 tensor([5, 9], device='cuda:0')\n",
      "15 tensor([7, 9], device='cuda:0')\n",
      "16 tensor([9, 8], device='cuda:0')\n",
      "17 tensor([9, 9], device='cuda:0')\n",
      "18 tensor([9, 9], device='cuda:0')\n",
      "19 tensor([9, 9], device='cuda:0')\n"
     ]
    }
   ],
   "source": [
    "from toumei.cnns.featurevis.dataset_finder import DatasetFinder\n",
    "for i in range(20):\n",
    "    df = DatasetFinder(dataset=dataset, obj_func=obj.TargetWrapper(obj.Neuron(\"fc4:0\"), i), sample_size=2048)\n",
    "    df.attach(model)\n",
    "    df.optimize(verbose=False)\n",
    "    print(i, df.get_top_label())"
   ],
   "metadata": {
    "collapsed": false,
    "pycharm": {
     "name": "#%%\n"
    }
   }
  }
 ],
 "metadata": {
  "kernelspec": {
   "display_name": "Python 3",
   "language": "python",
   "name": "python3"
  },
  "language_info": {
   "codemirror_mode": {
    "name": "ipython",
    "version": 2
   },
   "file_extension": ".py",
   "mimetype": "text/x-python",
   "name": "python",
   "nbconvert_exporter": "python",
   "pygments_lexer": "ipython2",
   "version": "2.7.6"
  }
 },
 "nbformat": 4,
 "nbformat_minor": 0
}