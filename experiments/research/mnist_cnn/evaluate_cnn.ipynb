{
 "cells": [
  {
   "cell_type": "code",
   "execution_count": 1,
   "outputs": [],
   "source": [
    "import matplotlib.pyplot as plt\n",
    "\n",
    "from toumei.probe import print_modules\n",
    "\n",
    "from ingredients.utils import *\n",
    "\n",
    "device = torch.device('cuda')\n",
    "\n",
    "from experiments.research.mnist_cnn.ingredients.mnist_dataset import MNISTDataset\n",
    "dataset = MNISTDataset(device=device)"
   ],
   "metadata": {
    "collapsed": false,
    "pycharm": {
     "name": "#%%\n"
    }
   }
  },
  {
   "cell_type": "code",
   "execution_count": 25,
   "outputs": [
    {
     "name": "stdout",
     "output_type": "stream",
     "text": [
      "\n",
      "Name            | Module                                                                      \n",
      "--------------------------------------------------------------------------------------------\n",
      "conv1           | Conv2d(2, 32, kernel_size=(3, 3), stride=(1, 1))                            \n",
      "pool1           | MaxPool2d(kernel_size=2, stride=2, padding=0, dilation=1, ceil_mode=False)  \n",
      "relu1           | RedirectedReluLayer()                                                       \n",
      "conv2           | Conv2d(32, 8, kernel_size=(3, 3), stride=(1, 1))                            \n",
      "pool2           | MaxPool2d(kernel_size=2, stride=2, padding=0, dilation=1, ceil_mode=False)  \n",
      "relu2           | RedirectedReluLayer()                                                       \n",
      "adaptive_pool   | AdaptiveAvgPool2d(output_size=(8, 8))                                       \n",
      "fc1             | Linear(in_features=512, out_features=32, bias=True)                         \n",
      "relu_fc1        | RedirectedReluLayer()                                                       \n",
      "fc2             | Linear(in_features=32, out_features=16, bias=True)                          \n",
      "relu_fc2        | RedirectedReluLayer()                                                       \n",
      "fc3             | Linear(in_features=16, out_features=8, bias=True)                           \n",
      "relu_fc3        | RedirectedReluLayer()                                                       \n",
      "fc4             | Linear(in_features=8, out_features=1, bias=True)                            \n",
      "\n"
     ]
    }
   ],
   "source": [
    "model = SimpleCNN(2, 1, redirected_relu=True).to(device)\n",
    "model.load_state_dict(torch.load('model_weights_mvg_5.pth'))\n",
    "print_modules(model)"
   ],
   "metadata": {
    "collapsed": false,
    "pycharm": {
     "name": "#%%\n"
    }
   }
  },
  {
   "cell_type": "code",
   "execution_count": 26,
   "outputs": [
    {
     "name": "stdout",
     "output_type": "stream",
     "text": [
      "0 tensor([0, 1], device='cuda:0')\n",
      "1 tensor([0, 1], device='cuda:0')\n",
      "2 tensor([1, 1], device='cuda:0')\n",
      "3 tensor([1, 2], device='cuda:0')\n",
      "4 tensor([3, 1], device='cuda:0')\n",
      "5 tensor([3, 3], device='cuda:0')\n",
      "6 tensor([3, 3], device='cuda:0')\n",
      "7 tensor([6, 2], device='cuda:0')\n",
      "8 tensor([0, 8], device='cuda:0')\n",
      "9 tensor([0, 9], device='cuda:0')\n",
      "10 tensor([3, 7], device='cuda:0')\n",
      "11 tensor([6, 6], device='cuda:0')\n",
      "12 tensor([6, 7], device='cuda:0')\n",
      "13 tensor([5, 9], device='cuda:0')\n",
      "14 tensor([5, 9], device='cuda:0')\n",
      "15 tensor([7, 9], device='cuda:0')\n",
      "16 tensor([9, 8], device='cuda:0')\n",
      "17 tensor([9, 9], device='cuda:0')\n",
      "18 tensor([9, 9], device='cuda:0')\n",
      "19 tensor([9, 9], device='cuda:0')\n"
     ]
    }
   ],
   "source": [
    "from toumei.general import DatasetFinder\n",
    "for i in range(20):\n",
    "    df = DatasetFinder(dataset=dataset, obj_func=obj.TargetWrapper(obj.Neuron(\"fc4:0\"), i), sample_size=2048)\n",
    "    df.attach(model)\n",
    "    df.optimize(verbose=False)\n",
    "    print(i, df.get_top_label())"
   ],
   "metadata": {
    "collapsed": false,
    "pycharm": {
     "name": "#%%\n"
    }
   }
  },
  {
   "cell_type": "code",
   "execution_count": null,
   "outputs": [],
   "source": [],
   "metadata": {
    "collapsed": false,
    "pycharm": {
     "name": "#%%\n"
    }
   }
  }
 ],
 "metadata": {
  "kernelspec": {
   "display_name": "Python 3",
   "language": "python",
   "name": "python3"
  },
  "language_info": {
   "codemirror_mode": {
    "name": "ipython",
    "version": 2
   },
   "file_extension": ".py",
   "mimetype": "text/x-python",
   "name": "python",
   "nbconvert_exporter": "python",
   "pygments_lexer": "ipython2",
   "version": "2.7.6"
  }
 },
 "nbformat": 4,
 "nbformat_minor": 0
}